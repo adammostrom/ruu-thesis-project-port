{
 "cells": [
  {
   "cell_type": "code",
   "execution_count": 36,
   "metadata": {},
   "outputs": [],
   "source": [
    "import copy\n",
    "import numpy as np"
   ]
  },
  {
   "cell_type": "code",
   "execution_count": null,
   "metadata": {},
   "outputs": [],
   "source": [
    "# Defining the set of allowed states in the SDP.\n",
    "states = [\"-2\", \"-1\", \"0\", \"1\", \"2\"]\n",
    "\n",
    "def actions(x: str) -> list[str] | list[None]:\n",
    "    if x in states:\n",
    "        return [\"Left\", \"Right\", \"Stay\"]\n",
    "    else:\n",
    "        raise ValueError(f\"Invalid State: '{x}'.\")"
   ]
  },
  {
   "cell_type": "code",
   "execution_count": 38,
   "metadata": {},
   "outputs": [],
   "source": [
    "# Defining the probabilities for the transition function.\n",
    "pL_Left = 0.85\n",
    "pS_Left = 0.1\n",
    "pR_Left = 0.05\n",
    "\n",
    "pL_Stay = 0.1\n",
    "pS_Stay = 0.8\n",
    "pR_Stay = 0.1\n",
    "\n",
    "pL_Right = 0.05\n",
    "pS_Right = 0.1\n",
    "pR_Right = 0.85"
   ]
  },
  {
   "cell_type": "code",
   "execution_count": 39,
   "metadata": {},
   "outputs": [],
   "source": [
    "# Checking that no probabilities are negative.\n",
    "def mkSimpleProb(pairs: list[tuple[str, float]]) -> dict[str, float]:\n",
    "    dist: dict[str, float] = {}\n",
    "    for st, pr in pairs:\n",
    "        if pr >= 0:\n",
    "            dist[st] = pr\n",
    "    return dist"
   ]
  },
  {
   "cell_type": "code",
   "execution_count": 40,
   "metadata": {},
   "outputs": [],
   "source": [
    "# For a current time step, state and action, returns the probabilities of entering each state in the next time step.\n",
    "def nextFunc(t: int, x: str, y: str) -> dict[str, float]:\n",
    "    # Actions for all states are \"Left\", \"Stay\", or \"Right\".\n",
    "        if x == \"-2\":\n",
    "            if y == \"Left\":\n",
    "                return mkSimpleProb(\n",
    "                    [\n",
    "                        (\"-2\", pL_Left + pS_Left),\n",
    "                        (\"-1\", pR_Left)\n",
    "                    ]\n",
    "                )\n",
    "            elif y == \"Stay\":\n",
    "                return mkSimpleProb(\n",
    "                    [\n",
    "                        (\"-2\", pL_Stay + pS_Stay),\n",
    "                        (\"-1\", pR_Stay)\n",
    "                    ]\n",
    "                )\n",
    "            elif y == \"Right\":\n",
    "                 return mkSimpleProb(\n",
    "                      [\n",
    "                           (\"-2\", pL_Right + pS_Right),\n",
    "                           (\"-1\", pR_Right)\n",
    "                      ]\n",
    "                 )\n",
    "            else:\n",
    "                raise ValueError(\"Invalid control for state=-2.\")\n",
    "        elif x == \"-1\":\n",
    "            if y == \"Left\":\n",
    "                return mkSimpleProb(\n",
    "                    [\n",
    "                        (\"-2\", pL_Left),\n",
    "                        (\"-1\", pS_Left),\n",
    "                        (\"0\", pR_Left)\n",
    "                    ]\n",
    "                )\n",
    "            elif y == \"Stay\":\n",
    "                return mkSimpleProb(\n",
    "                    [\n",
    "                        (\"-2\", pL_Stay),\n",
    "                        (\"-1\", pS_Stay),\n",
    "                        (\"0\", pR_Stay)\n",
    "                    ]\n",
    "                )\n",
    "            elif y == \"Right\":\n",
    "                 return mkSimpleProb(\n",
    "                      [\n",
    "                        (\"-2\", pL_Right),\n",
    "                        (\"-1\", pS_Right),\n",
    "                        (\"0\", pR_Right)\n",
    "                      ]\n",
    "                 )\n",
    "            else:\n",
    "                raise ValueError(\"Invalid control for state=-1.\")\n",
    "        elif x == \"0\":\n",
    "            if y == \"Left\":\n",
    "                return mkSimpleProb(\n",
    "                    [\n",
    "                        (\"-1\", pL_Left),\n",
    "                        (\"0\", pS_Left),\n",
    "                        (\"1\", pR_Left)\n",
    "                    ]\n",
    "                )\n",
    "            elif y == \"Stay\":\n",
    "                return mkSimpleProb(\n",
    "                    [\n",
    "                        (\"-1\", pL_Stay),\n",
    "                        (\"0\", pS_Stay),\n",
    "                        (\"1\", pR_Stay)\n",
    "                    ]\n",
    "                )\n",
    "            elif y == \"Right\":\n",
    "                 return mkSimpleProb(\n",
    "                      [\n",
    "                        (\"-1\", pL_Right),\n",
    "                        (\"0\", pS_Right),\n",
    "                        (\"1\", pR_Right)\n",
    "                      ]\n",
    "                 )\n",
    "            else:\n",
    "                raise ValueError(\"Invalid control for state=0.\")\n",
    "        elif x == \"1\":\n",
    "            if y == \"Left\":\n",
    "                return mkSimpleProb(\n",
    "                    [\n",
    "                        (\"0\", pL_Left),\n",
    "                        (\"1\", pS_Left),\n",
    "                        (\"2\", pR_Left)\n",
    "                    ]\n",
    "                )\n",
    "            elif y == \"Stay\":\n",
    "                return mkSimpleProb(\n",
    "                    [\n",
    "                        (\"0\", pL_Stay),\n",
    "                        (\"1\", pS_Stay),\n",
    "                        (\"2\", pR_Stay)\n",
    "                    ]\n",
    "                )\n",
    "            elif y == \"Right\":\n",
    "                 return mkSimpleProb(\n",
    "                      [\n",
    "                        (\"0\", pL_Right),\n",
    "                        (\"1\", pS_Right),\n",
    "                        (\"2\", pR_Right)\n",
    "                      ]\n",
    "                 )\n",
    "            else:\n",
    "                raise ValueError(\"Invalid control for state=1.\")\n",
    "        elif x == \"2\":\n",
    "            if y == \"Left\":\n",
    "                return mkSimpleProb(\n",
    "                    [\n",
    "                        (\"1\", pL_Left),\n",
    "                        (\"2\", pS_Left + pR_Left),\n",
    "                    ]\n",
    "                )\n",
    "            elif y == \"Stay\":\n",
    "                return mkSimpleProb(\n",
    "                    [\n",
    "                        (\"1\", pL_Stay),\n",
    "                        (\"2\", pS_Stay + pR_Stay)\n",
    "                    ]\n",
    "                )\n",
    "            elif y == \"Right\":\n",
    "                 return mkSimpleProb(\n",
    "                      [\n",
    "                        (\"1\", pL_Right),\n",
    "                        (\"2\", pS_Right + pR_Right)\n",
    "                      ]\n",
    "                 )\n",
    "            else:\n",
    "                raise ValueError(\"Invalid control for state=2.\")\n",
    "        else:\n",
    "            raise ValueError(f\"Invalid state: {x}\")"
   ]
  },
  {
   "cell_type": "code",
   "execution_count": 41,
   "metadata": {},
   "outputs": [
    {
     "name": "stdout",
     "output_type": "stream",
     "text": [
      "{'-2': 0.1, '-1': 0.8, '0': 0.1}\n"
     ]
    }
   ],
   "source": [
    "# Testing the transition function.\n",
    "print(nextFunc(0, \"-1\", \"Stay\"))"
   ]
  },
  {
   "cell_type": "code",
   "execution_count": null,
   "metadata": {},
   "outputs": [],
   "source": [
    "def reward(t: int, x: str, y: str, next_x: str) -> float:\n",
    "    # Value is added for transitioning into states which do not have low economic\n",
    "    # output and at the same time are not comitted to severe future climate change.\n",
    "    if t < 0 or type(t) != int:\n",
    "        raise ValueError(f\"Invalid time step: '{t}' (must be positive integer).\")\n",
    "    if x not in states:\n",
    "        raise ValueError(f\"Invalid state: '{x}'\")\n",
    "    if y not in actions(x):\n",
    "        raise ValueError(f\"Invalid action: '{y}'\")\n",
    "    if next_x not in states:\n",
    "        raise ValueError(f\"Invalid next state: '{next_x}'\")\n",
    "    return 1.0 if next_x == \"2\" else 0.0"
   ]
  },
  {
   "cell_type": "code",
   "execution_count": 43,
   "metadata": {},
   "outputs": [],
   "source": [
    "# Function defining how to add rewards together.\n",
    "def add(a: float, b: float) -> float:\n",
    "    if type(a) != float or type(b) != float:\n",
    "        raise TypeError(f\"Inputs must be of type 'float', not '{type(a).__name__}' and '{type(b).__name__}'.\")\n",
    "    return a + b # In default implementation, returns regular floating point addition."
   ]
  },
  {
   "cell_type": "code",
   "execution_count": 44,
   "metadata": {},
   "outputs": [],
   "source": [
    "# Function for measuring a certain value.\n",
    "def meas(val: float, pr: float) -> float:\n",
    "    if type(val) != float or type(pr) != float:\n",
    "        raise TypeError(f\"Inputs must be of type 'float', not '{type(val).__name__}' and '{type(pr).__name__}'.\")\n",
    "    return val * pr # In default implementation, returns the expected value."
   ]
  },
  {
   "cell_type": "code",
   "execution_count": null,
   "metadata": {},
   "outputs": [],
   "source": [
    "# Default value of zero-length policy sequences.\n",
    "zero = 0.0\n",
    "# Computing the total expected value from a policy sequence when starting at time t in state x.\n",
    "def val(t: int, ps: list[dict[str, str]], x: str) -> float:\n",
    "    if t < 0 or type(t) != int:\n",
    "        raise ValueError(f\"Invalid time step: '{t}' (must be positive integer).\")\n",
    "    if type(ps) != list:\n",
    "        raise TypeError(f\"Invalid policy list, must be list of dictionaries (or empty list).\")\n",
    "    if x not in states:\n",
    "        raise ValueError(f\"Invalid state: '{x}'\")\n",
    "    value = zero\n",
    "    if len(ps) == 0:\n",
    "        return value\n",
    "    y = ps[0][x]\n",
    "    m_next = nextFunc(t, x, y)\n",
    "    for x_prim, pr in m_next.items():\n",
    "        value += meas(add(reward(t, x, y, x_prim), val(t+1, ps[1:], x_prim)), pr)\n",
    "    return value"
   ]
  },
  {
   "cell_type": "code",
   "execution_count": 46,
   "metadata": {},
   "outputs": [],
   "source": [
    "# Computes the best single policy to add to an existing policy sequence.\n",
    "def bestExt(t: int, ps_tail: list[dict[str, str]]) -> dict[str, str]:\n",
    "    policy = dict()\n",
    "\n",
    "    for state in states:\n",
    "        best_value = -np.inf\n",
    "        best_action = None\n",
    "\n",
    "        for action in actions(state):\n",
    "            # Calculate value of taking action in state\n",
    "            p = {state: action}\n",
    "            value = val(t, [p] + ps_tail, state)\n",
    "            # Choose the action with the highest expected value\n",
    "            if value >= best_value:\n",
    "                best_value = value\n",
    "                best_action = action\n",
    "\n",
    "        policy[state] = best_action\n",
    "\n",
    "    return policy"
   ]
  },
  {
   "cell_type": "code",
   "execution_count": null,
   "metadata": {},
   "outputs": [],
   "source": [
    "def worstExt(t: int, ps_tail: list[dict[str, str]] | list[None]) -> dict[str, str]:\n",
    "    if t < 0 or type(t) != int:\n",
    "        raise ValueError(f\"Invalid time step: '{t}' (must be positive integer).\")\n",
    "    if type(ps_tail) != list:\n",
    "        raise TypeError(f\"Invalid ps_tail, must be list of dictionaries (or empty list).\")\n",
    "    \n",
    "    policy = dict()\n",
    "\n",
    "    for state in states:\n",
    "        worst_value = np.inf\n",
    "        worst_action = None\n",
    "\n",
    "        # For each available action in the current state\n",
    "        for action in actions(state):\n",
    "            # Calculate value of taking action in state\n",
    "            p = {state: action}\n",
    "            value = val(t, [p] + ps_tail, state)\n",
    "            # Choose the action with the highest expected value\n",
    "            if value <= worst_value:\n",
    "                worst_value = value\n",
    "                worst_action = action\n",
    "\n",
    "        policy[state] = worst_action\n",
    "\n",
    "    return policy"
   ]
  },
  {
   "cell_type": "code",
   "execution_count": 47,
   "metadata": {},
   "outputs": [],
   "source": [
    "# Builds an optimal policy sequence by recursively adding the best extension (starting from the end).\n",
    "def bi(t: int, n: int) -> list[dict[str, str]]:\n",
    "    if n == 0:\n",
    "        return []\n",
    "    else:\n",
    "        ps_tail = bi(t + 1, n - 1)\n",
    "        p = bestExt(t, ps_tail)\n",
    "        return [p] + ps_tail"
   ]
  },
  {
   "cell_type": "code",
   "execution_count": 48,
   "metadata": {},
   "outputs": [
    {
     "data": {
      "text/plain": [
       "[{'-2': 'Stay', '-1': 'Stay', '0': 'Stay', '1': 'Right', '2': 'Right'}]"
      ]
     },
     "execution_count": 48,
     "metadata": {},
     "output_type": "execute_result"
    }
   ],
   "source": [
    "bi_test = bi(0, 1)\n",
    "bi_test"
   ]
  },
  {
   "cell_type": "code",
   "execution_count": 49,
   "metadata": {},
   "outputs": [],
   "source": [
    "# For a given time step, state and decision horizon, returns the optimal action and the\n",
    "# expected value of the sequence it starts (assuming the rest of the sequence is optimal).\n",
    "def best(t: int, n: int, x: str) -> str:\n",
    "    if n <= 0:\n",
    "        raise ValueError(\"The horizon must be greater than zero!\")\n",
    "    ps = bi(t + 1, n - 1)\n",
    "    p = bestExt(t, ps)\n",
    "    b = p[x]\n",
    "    vb = val(t, [p] + ps, x)\n",
    "    return f\"Horizon, best, value : {n}, {b}, {vb}\""
   ]
  },
  {
   "cell_type": "code",
   "execution_count": 50,
   "metadata": {},
   "outputs": [
    {
     "name": "stdout",
     "output_type": "stream",
     "text": [
      "Horizon, best, value : 1, Right, 0.95\n",
      "Horizon, best, value : 2, Right, 1.8949999999999998\n"
     ]
    }
   ],
   "source": [
    "# Computing the best decision for different decision horizons.\n",
    "bests = []\n",
    "for i in range(1, 3):\n",
    "    bests.append(best(0, i, \"2\"))\n",
    "\n",
    "for b in bests:\n",
    "    print(b)"
   ]
  },
  {
   "cell_type": "code",
   "execution_count": 51,
   "metadata": {},
   "outputs": [],
   "source": [
    "# Returns a value between 0 and 1, where 0 means \"does not matter at all\"\n",
    "# and 1 means \"matters maximally\" to achieving the defined goal of the SDP.\n",
    "def mMeas(t: int, n: int, x: str) -> float:\n",
    "    if x in [\"SHU\", \"SHC\", \"SLU\", \"SLC\"]:\n",
    "        return 0\n",
    "    else:\n",
    "        ps = bi(t, n)\n",
    "        ps_prim = copy.deepcopy(ps)\n",
    "        if ps[0][x] == \"Start\":\n",
    "            ps_prim[0][x] = \"Delay\"\n",
    "        else:\n",
    "            ps_prim[0][x] = \"Start\"\n",
    "\n",
    "        best_action_val = val(t, ps, x)\n",
    "        worst_action_val = val(t, ps_prim, x)\n",
    "\n",
    "        return (best_action_val - worst_action_val) / best_action_val"
   ]
  },
  {
   "cell_type": "code",
   "execution_count": null,
   "metadata": {},
   "outputs": [
    {
     "name": "stdout",
     "output_type": "stream",
     "text": [
      "[<State._11: (1, 1)>]\n",
      "[<State._22: (1, 1)>]\n"
     ]
    }
   ],
   "source": [
    "from enum import Enum, auto\n",
    "\n",
    "class State(Enum):\n",
    "    _11 = (1,1)\n",
    "\n",
    "print(list(State))\n",
    "\n",
    "class State(Enum):\n",
    "    _22 = (2,2)\n",
    "\n",
    "print(list(State))"
   ]
  }
 ],
 "metadata": {
  "kernelspec": {
   "display_name": "Python 3",
   "language": "python",
   "name": "python3"
  },
  "language_info": {
   "codemirror_mode": {
    "name": "ipython",
    "version": 3
   },
   "file_extension": ".py",
   "mimetype": "text/x-python",
   "name": "python",
   "nbconvert_exporter": "python",
   "pygments_lexer": "ipython3",
   "version": "3.11.9"
  }
 },
 "nbformat": 4,
 "nbformat_minor": 2
}
