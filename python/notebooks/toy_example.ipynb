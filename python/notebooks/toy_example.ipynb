{
 "cells": [
  {
   "cell_type": "markdown",
   "metadata": {},
   "source": [
    "#### A toy example: Modelling whether or not to go to bed early as an SDP"
   ]
  },
  {
   "cell_type": "code",
   "execution_count": 51,
   "metadata": {},
   "outputs": [],
   "source": [
    "import numpy as np\n",
    "import copy"
   ]
  },
  {
   "cell_type": "code",
   "execution_count": 52,
   "metadata": {},
   "outputs": [],
   "source": [
    "# Four states: E = \"Energized\", T = \"Tired\", C = \"Calm\", S = \"Stressed\"\n",
    "states = [\"EC\", \"ES\", \"TC\", \"TS\"]\n",
    "\n",
    "# Two possible actions, to go to bed early or late. If late, maybe you have time to study more?\n",
    "def actions(x: str) -> list[str]:\n",
    "    if x in states:\n",
    "        return [\"Early\", \"Late\"]\n",
    "    else:\n",
    "        raise ValueError(f\"Invalid state '{x}'.\")"
   ]
  },
  {
   "cell_type": "code",
   "execution_count": 53,
   "metadata": {},
   "outputs": [],
   "source": [
    "# Defining probabilities depending on action and state.\n",
    "\n",
    "pE_Early_C = 0.9\n",
    "pE_Early_S = 0.7\n",
    "\n",
    "pT_Early_C = 1 - pE_Early_C\n",
    "pT_Early_S = 1 - pE_Early_S\n",
    "\n",
    "# --- --- --- #\n",
    "\n",
    "pC_Early_C = 0.9\n",
    "pC_Early_S = 0.4\n",
    "\n",
    "pS_Early_C = 1 - pC_Early_C\n",
    "pS_Early_S = 1 - pC_Early_S\n",
    "\n",
    "# --- --- --- #\n",
    "\n",
    "pE_Late_C = 0.3\n",
    "pE_Late_S = 0.2\n",
    "\n",
    "pT_Late_C = 1 - pE_Late_C\n",
    "pT_Late_S = 1 - pE_Late_S\n",
    "\n",
    "# --- --- --- #\n",
    "\n",
    "pC_Late_C = 0.8\n",
    "pC_Late_S = 0.6\n",
    "\n",
    "pS_Late_C = 1- pC_Late_C\n",
    "pS_Late_S = 1- pC_Late_S\n"
   ]
  },
  {
   "cell_type": "code",
   "execution_count": 54,
   "metadata": {},
   "outputs": [],
   "source": [
    "# Function that checks that no probabilities are negative and returns \"Monads\".\n",
    "def mkSimpleProb(pairs: list[tuple[str, float]]) -> dict[str, float]:\n",
    "    dist: dict[str, float] = {}\n",
    "    for (st, pr) in pairs:\n",
    "        if pr >= 0:\n",
    "            dist[st] = pr\n",
    "    return dist"
   ]
  },
  {
   "cell_type": "code",
   "execution_count": 55,
   "metadata": {},
   "outputs": [],
   "source": [
    "# Defining transition function\n",
    "def nextFunc(t: int, x: str, y: str) -> dict[str, float]:\n",
    "    if x == \"EC\":\n",
    "        if y == \"Early\":\n",
    "            return mkSimpleProb([\n",
    "                (\"EC\", pE_Early_C * pC_Early_C),\n",
    "                (\"ES\", pE_Early_C * pS_Early_C),\n",
    "                (\"TC\", pT_Early_C * pC_Early_C),\n",
    "                (\"TS\", pT_Early_C * pS_Early_C)\n",
    "            ])\n",
    "\n",
    "        elif y == \"Late\":\n",
    "                        return mkSimpleProb([\n",
    "                (\"EC\", pE_Late_C * pC_Late_C),\n",
    "                (\"ES\", pE_Late_C * pS_Late_C),\n",
    "                (\"TC\", pT_Late_C * pC_Late_C),\n",
    "                (\"TS\", pT_Late_C * pS_Late_C)\n",
    "            ])\n",
    "\n",
    "        else:\n",
    "            raise ValueError(f'Invalid control\"{y}\" at t={t}')\n",
    "    elif x == \"ES\":\n",
    "        if y == \"Early\":\n",
    "             return mkSimpleProb([\n",
    "                (\"EC\", pE_Early_S * pC_Early_S),\n",
    "                (\"ES\", pE_Early_S * pS_Early_S),\n",
    "                (\"TC\", pT_Early_S * pC_Early_S),\n",
    "                (\"TS\", pT_Early_S * pS_Early_S)\n",
    "            ])\n",
    "\n",
    "        elif y == \"Late\":\n",
    "             return mkSimpleProb([\n",
    "                (\"EC\", pE_Late_S * pC_Late_S),\n",
    "                (\"ES\", pE_Late_S * pS_Late_S),\n",
    "                (\"TC\", pT_Late_S * pC_Late_S),\n",
    "                (\"TS\", pT_Late_S * pS_Late_S)\n",
    "            ])\n",
    "\n",
    "        else:\n",
    "            raise ValueError(f'Invalid control\"{y}\" at t={t}')\n",
    "    elif x == \"TC\":\n",
    "        if y == \"Early\":\n",
    "             return mkSimpleProb([\n",
    "                (\"EC\", pE_Early_C * pC_Early_C),\n",
    "                (\"ES\", pE_Early_C * pS_Early_C),\n",
    "                (\"TC\", pT_Early_C * pC_Early_C),\n",
    "                (\"TS\", pT_Early_C * pS_Early_C)\n",
    "            ])\n",
    "\n",
    "        elif y == \"Late\":\n",
    "             return mkSimpleProb([\n",
    "                (\"EC\", pE_Late_C * pC_Late_C),\n",
    "                (\"ES\", pE_Late_C * pS_Late_C),\n",
    "                (\"TC\", pT_Late_C * pC_Late_C),\n",
    "                (\"TS\", pT_Late_C * pS_Late_C)\n",
    "            ])\n",
    "\n",
    "        else:\n",
    "            raise ValueError(f'Invalid control\"{y}\" at t={t}')\n",
    "    elif x == \"TS\":\n",
    "        if y == \"Early\":\n",
    "             return mkSimpleProb([\n",
    "                (\"EC\", pE_Early_S * pC_Early_S),\n",
    "                (\"ES\", pE_Early_S * pS_Early_S),\n",
    "                (\"TC\", pT_Early_S * pC_Early_S),\n",
    "                (\"TS\", pT_Early_S * pS_Early_S)\n",
    "            ])\n",
    "\n",
    "        elif y == \"Late\":\n",
    "             return mkSimpleProb([\n",
    "                (\"EC\", pE_Late_S * pC_Late_S),\n",
    "                (\"ES\", pE_Late_S * pS_Late_S),\n",
    "                (\"TC\", pT_Late_S * pC_Late_S),\n",
    "                (\"TS\", pT_Late_S * pS_Late_S)\n",
    "            ])\n",
    "\n",
    "        else:\n",
    "            raise ValueError(f'Invalid control\"{y}\" at t={t}')\n",
    "    else:\n",
    "        raise ValueError(f'Invalid state \"{x}\" at t = {t}')  \n"
   ]
  },
  {
   "cell_type": "code",
   "execution_count": 56,
   "metadata": {},
   "outputs": [
    {
     "name": "stdout",
     "output_type": "stream",
     "text": [
      "EC 0.28\n",
      "ES 0.42\n",
      "TC 0.12\n",
      "TS 0.18\n",
      "\n",
      "Sum of probabilities: 1.0\n"
     ]
    }
   ],
   "source": [
    "# Testing the next-function.\n",
    "\n",
    "test_next = nextFunc(0, \"ES\", \"Early\")\n",
    "\n",
    "for state, pr in test_next.items():\n",
    "    print(state, np.round(pr, 6))\n",
    "\n",
    "print(\"\\nSum of probabilities:\", sum(test_next.values()))"
   ]
  },
  {
   "cell_type": "code",
   "execution_count": 57,
   "metadata": {},
   "outputs": [],
   "source": [
    "def reward(t: int, x: str, y:str, next_x: str) -> float:\n",
    "    if t < 0 or type(t) != int:\n",
    "        raise ValueError(f\"Invalid time step: '{t}' (must be positive integer).\")\n",
    "    if x not in states:\n",
    "        raise ValueError(f\"Invalid state: '{x}'\")\n",
    "    if y not in actions(x):\n",
    "        raise ValueError(f\"Invalid action: '{y}'\")\n",
    "    if next_x not in states:\n",
    "        raise ValueError(f\"Invalid next state: '{next_x}'\")\n",
    "    if next_x == \"EC\": rew = 1.0\n",
    "    elif next_x == \"TC\": rew = 0.5\n",
    "    elif next_x == \"ES\": rew = 0.25\n",
    "    else: rew = 0.0\n",
    "    return rew"
   ]
  },
  {
   "cell_type": "code",
   "execution_count": 58,
   "metadata": {},
   "outputs": [],
   "source": [
    "def add(a: float, b: float) -> float:\n",
    "    if type(a) != float or type(b) != float:\n",
    "        raise TypeError(f\"Inputs must be of type 'float', not '{type(a).__name__}' and '{type(b).__name__}'.\")\n",
    "    return a + b # In default implementation, returns regular floating point addition."
   ]
  },
  {
   "cell_type": "code",
   "execution_count": 59,
   "metadata": {},
   "outputs": [],
   "source": [
    "# Function for measuring a certain value.\n",
    "def meas(val: float, pr: float) -> float:\n",
    "    if type(val) != float or type(pr) != float:\n",
    "        raise TypeError(f\"Inputs must be of type 'float', not '{type(val).__name__}' and '{type(pr).__name__}'.\")\n",
    "    return val * pr # In default implementation, returns the expected value."
   ]
  },
  {
   "cell_type": "code",
   "execution_count": 60,
   "metadata": {},
   "outputs": [
    {
     "name": "stdout",
     "output_type": "stream",
     "text": [
      "If, at t = 0 and in state \"EC\", you take action \"Early\" and end up in state TC, you get the reward \u001b[1m0.5.\n"
     ]
    }
   ],
   "source": [
    "t = 0\n",
    "x = \"EC\"\n",
    "y = \"Early\"\n",
    "x_next = \"TC\"\n",
    "\n",
    "test_reward = reward(t, x, y, x_next)\n",
    "print(f'If, at t = {t} and in state \"{x}\", you take action \"{y}\" and end up in state {x_next}, you get the reward \\033[1m{test_reward}.')"
   ]
  },
  {
   "cell_type": "code",
   "execution_count": null,
   "metadata": {},
   "outputs": [],
   "source": [
    "# Default value of zero-length policy sequences.\n",
    "zero = 0.0\n",
    "\n",
    "# Computing the total expected value from a policy sequence when starting at time t in state x.\n",
    "def val(t: int, ps: list[dict[str, str]], x: str) -> float:\n",
    "    if t < 0 or type(t) != int:\n",
    "        raise ValueError(f\"Invalid time step: '{t}' (must be positive integer).\")\n",
    "    if type(ps) != list:\n",
    "        raise TypeError(f\"Invalid policy list, must be list of dictionaries (or empty list).\")\n",
    "    if x not in states:\n",
    "        raise ValueError(f\"Invalid state: '{x}'\")\n",
    "    value = zero\n",
    "    if len(ps) == 0:\n",
    "        return value\n",
    "    y = ps[0][x]\n",
    "    m_next = nextFunc(t, x, y)\n",
    "    for x_prim, pr in m_next.items():\n",
    "        value += meas(add(reward(t, x, y, x_prim), val(t+1, ps[1:], x_prim)), pr)\n",
    "    return value"
   ]
  },
  {
   "cell_type": "code",
   "execution_count": null,
   "metadata": {},
   "outputs": [],
   "source": [
    "# Computes the best single policy to add to an existing policy sequence.\n",
    "def bestExt(t: int, ps_tail: list[dict[str, str]]) -> dict[str, str]:\n",
    "    policy = dict()\n",
    "\n",
    "    for state in states:\n",
    "        best_value = -np.inf\n",
    "        best_action = None\n",
    "        \n",
    "        # For each available action in the current state\n",
    "        for action in actions(state):\n",
    "            # Calculate value of taking action in state\n",
    "            p = {state: action}\n",
    "            value = val(t, [p] + ps_tail, state)\n",
    "            # Choose the action with the highest expected value\n",
    "            if value >= best_value:\n",
    "                best_value = value\n",
    "                best_action = action\n",
    "        \n",
    "        policy[state] = best_action\n",
    "\n",
    "    return policy"
   ]
  },
  {
   "cell_type": "code",
   "execution_count": null,
   "metadata": {},
   "outputs": [],
   "source": [
    "def worstExt(t: int, ps_tail: list[dict[str, str]] | list[None]) -> dict[str, str]:\n",
    "    if t < 0 or type(t) != int:\n",
    "        raise ValueError(f\"Invalid time step: '{t}' (must be positive integer).\")\n",
    "    if type(ps_tail) != list:\n",
    "        raise TypeError(f\"Invalid ps_tail, must be list of dictionaries (or empty list).\")\n",
    "    \n",
    "    policy = dict()\n",
    "\n",
    "    for state in states:\n",
    "        worst_value = np.inf\n",
    "        worst_action = None\n",
    "\n",
    "        # For each available action in the current state\n",
    "        for action in actions(state):\n",
    "            # Calculate value of taking action in state\n",
    "            p = {state: action}\n",
    "            value = val(t, [p] + ps_tail, state)\n",
    "            # Choose the action with the highest expected value\n",
    "            if value <= worst_value:\n",
    "                worst_value = value\n",
    "                worst_action = action\n",
    "\n",
    "        policy[state] = worst_action\n",
    "\n",
    "    return policy"
   ]
  },
  {
   "cell_type": "code",
   "execution_count": 63,
   "metadata": {},
   "outputs": [],
   "source": [
    "# Builds an optimal policy sequence by recursively adding the best extension (starting from the end).\n",
    "def bi(t: int, n: int) -> list[dict[str, str]]:\n",
    "    if n == 0:\n",
    "        return []\n",
    "    else:\n",
    "        ps_tail = bi(t + 1, n - 1)\n",
    "        p = bestExt(t, ps_tail)\n",
    "        return [p] + ps_tail"
   ]
  },
  {
   "cell_type": "code",
   "execution_count": 70,
   "metadata": {},
   "outputs": [
    {
     "data": {
      "text/plain": [
       "[{'EC': 'Early', 'ES': 'Late', 'TC': 'Early', 'TS': 'Late'},\n",
       " {'EC': 'Early', 'ES': 'Late', 'TC': 'Early', 'TS': 'Late'},\n",
       " {'EC': 'Early', 'ES': 'Late', 'TC': 'Early', 'TS': 'Late'},\n",
       " {'EC': 'Early', 'ES': 'Late', 'TC': 'Early', 'TS': 'Late'},\n",
       " {'EC': 'Early', 'ES': 'Late', 'TC': 'Early', 'TS': 'Late'},\n",
       " {'EC': 'Early', 'ES': 'Late', 'TC': 'Early', 'TS': 'Late'},\n",
       " {'EC': 'Early', 'ES': 'Early', 'TC': 'Early', 'TS': 'Early'}]"
      ]
     },
     "execution_count": 70,
     "metadata": {},
     "output_type": "execute_result"
    }
   ],
   "source": [
    "# Testing an optimal policy\n",
    "bi_test = bi(0, 7)\n",
    "bi_test"
   ]
  },
  {
   "cell_type": "code",
   "execution_count": 64,
   "metadata": {},
   "outputs": [],
   "source": [
    "# For a given time step, state and decision horizon, returns the optimal action and the \n",
    "# expected value of the sequence it starts (assuming the rest of the sequence is optimal).\n",
    "def best(t: int, n: int, x: str) -> str:\n",
    "    if n == 0:\n",
    "        raise ValueError(\"The horizon must be greater than zero!\")\n",
    "    ps = bi(t+1, n-1)\n",
    "    p = bestExt(t, ps)\n",
    "    b = p[x]\n",
    "    vb = val(t, [p] + ps, x)\n",
    "    return f\"Horizon, best, value: {n}, {b}, {vb}\""
   ]
  },
  {
   "cell_type": "code",
   "execution_count": 65,
   "metadata": {},
   "outputs": [
    {
     "name": "stdout",
     "output_type": "stream",
     "text": [
      "Horizon, best, value: 1, Early, 0.44499999999999995\n",
      "Horizon, best, value: 2, Late, 1.0845\n",
      "Horizon, best, value: 3, Late, 1.8408499999999999\n",
      "Horizon, best, value: 4, Late, 2.632255\n",
      "Horizon, best, value: 5, Late, 3.4341765000000004\n",
      "Horizon, best, value: 6, Late, 4.239252950000001\n",
      "Horizon, best, value: 7, Late, 5.0452758850000015\n"
     ]
    }
   ],
   "source": [
    "# Computing the best decision for different decision horizons.\n",
    "bests = []\n",
    "for i in range(1,8):\n",
    "    bests.append(best(0, i, \"ES\"))\n",
    "\n",
    "for best in bests:\n",
    "    print(best)"
   ]
  },
  {
   "cell_type": "code",
   "execution_count": 66,
   "metadata": {},
   "outputs": [],
   "source": [
    "# Returns a value between 0 and 1, where 0 means \"does not matter at all\"\n",
    "# and 1 means \"matters maximally\" to achieving the defined goal of the SDP.\n",
    "def mMeas(t: int, n: int, x: str) -> float:\n",
    "    ps = bi(t, n)\n",
    "    ps_prim = copy.deepcopy(ps)\n",
    "    if ps[0][x] == \"Early\":\n",
    "        ps_prim[0][x] = \"Late\"\n",
    "    else:\n",
    "        ps_prim[0][x] = \"Early\"\n",
    "\n",
    "    best_action_val = val(t, ps, x)\n",
    "    worst_action_val = val(t, ps_prim, x)\n",
    "\n",
    "    return (best_action_val - worst_action_val) / best_action_val"
   ]
  },
  {
   "cell_type": "code",
   "execution_count": 67,
   "metadata": {},
   "outputs": [
    {
     "name": "stdout",
     "output_type": "stream",
     "text": [
      "0.39031339031339046\n",
      "0.2253541697093618\n",
      "0.12324171421761498\n",
      "0.08351621684493062\n",
      "0.06301985082274782\n"
     ]
    }
   ],
   "source": [
    "# Comparing importance of a few choises.\n",
    "print(mMeas(0, 1, \"EC\"))\n",
    "print(mMeas(0, 2, \"EC\"))\n",
    "print(mMeas(0, 4, \"EC\"))\n",
    "print(mMeas(0, 6, \"EC\"))\n",
    "print(mMeas(0, 8, \"EC\"))"
   ]
  },
  {
   "cell_type": "code",
   "execution_count": 68,
   "metadata": {},
   "outputs": [
    {
     "name": "stdout",
     "output_type": "stream",
     "text": [
      "0.12324171421761498\n",
      "0.12324171421761498\n",
      "0.027404259845645595\n",
      "0.027404259845645595\n"
     ]
    }
   ],
   "source": [
    "# Comparing importance of a few choises.\n",
    "print(mMeas(0, 4, \"EC\"))\n",
    "print(mMeas(0, 4, \"TC\"))\n",
    "print(mMeas(0, 4, \"ES\"))\n",
    "print(mMeas(0, 4, \"TS\"))"
   ]
  }
 ],
 "metadata": {
  "kernelspec": {
   "display_name": "Python 3",
   "language": "python",
   "name": "python3"
  },
  "language_info": {
   "codemirror_mode": {
    "name": "ipython",
    "version": 3
   },
   "file_extension": ".py",
   "mimetype": "text/x-python",
   "name": "python",
   "nbconvert_exporter": "python",
   "pygments_lexer": "ipython3",
   "version": "3.11.9"
  }
 },
 "nbformat": 4,
 "nbformat_minor": 2
}
