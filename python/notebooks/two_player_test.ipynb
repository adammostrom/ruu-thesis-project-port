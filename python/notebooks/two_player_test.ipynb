{
 "cells": [
  {
   "cell_type": "markdown",
   "metadata": {},
   "source": [
    "#### Experimenting with having two actors/players whoose states and actions affect each other"
   ]
  },
  {
   "cell_type": "code",
   "execution_count": 1,
   "metadata": {},
   "outputs": [],
   "source": [
    "# Importing relevant libraries.\n",
    "import numpy as np\n",
    "import copy"
   ]
  },
  {
   "cell_type": "code",
   "execution_count": 2,
   "metadata": {},
   "outputs": [],
   "source": [
    "# Global settings and setup of game.\n",
    "n_players = 2"
   ]
  },
  {
   "cell_type": "code",
   "execution_count": 3,
   "metadata": {},
   "outputs": [],
   "source": [
    "# Checking that no probabilities are negative.\n",
    "def mkSimpleProb(pairs: list[tuple[str, float]]) -> dict[str, float]:\n",
    "    dist: dict[str, float] = {}\n",
    "    for (st, pr) in pairs:\n",
    "        if pr >= 0:\n",
    "            dist[st] = pr\n",
    "    return dist"
   ]
  },
  {
   "cell_type": "code",
   "execution_count": 4,
   "metadata": {},
   "outputs": [],
   "source": [
    "class Player:\n",
    "    def __init__(self, name: str, probs: dict[str, float], states: list[str], actions):\n",
    "        self.name = name\n",
    "        self.states = states\n",
    "        self.pC_Confess = probs[\"pC_Confess\"]\n",
    "        self.pR_Confess = probs[\"pR_Confess\"]\n",
    "        self.pC_Refuse = probs[\"pC_Refuse\"]\n",
    "        self.pR_Refuse = probs[\"pR_Refuse\"]\n",
    "        self.actions = actions\n",
    "        self.last_action = None\n",
    "        self.score = 0.0\n",
    "\n",
    "    def choose_action(self, x:str) -> str:\n",
    "        \"\"\"For now, an action is chosen at random.\"\"\"\n",
    "        action = np.random.choice(self.actions(x))\n",
    "        self.last_action = action\n",
    "        return action"
   ]
  },
  {
   "cell_type": "code",
   "execution_count": 13,
   "metadata": {},
   "outputs": [],
   "source": [
    "class Game:\n",
    "    def __init__(self, players: list[Player], states: list[str]):\n",
    "        self.players = players\n",
    "        self.states = states\n",
    "        self.current_state = \"Start\"\n",
    "\n",
    "    def nextFunc(self, t: int, x: str, ys: dict[str, str]) -> dict[str, float]:\n",
    "        a1 = ys[self.players[0].name]\n",
    "        a2 = ys[self.players[1].name]\n",
    "\n",
    "        if a1 == \"Confess\" and a2 == \"Confess\":\n",
    "            return mkSimpleProb([\n",
    "                (\"(1,1)\", self.players[0].pC_Confess * self.players[1].pC_Confess),\n",
    "                (\"(5,0)\", self.players[0].pC_Confess * self.players[1].pR_Confess),\n",
    "                (\"(0,5)\", self.players[0].pR_Confess * self.players[1].pC_Confess),\n",
    "                (\"(3,3)\", self.players[0].pR_Confess * self.players[1].pR_Confess)\n",
    "            ])\n",
    "        elif a1 == \"Confess\" and a2 == \"Refuse\":\n",
    "            return mkSimpleProb([\n",
    "                (\"(1,1)\", self.players[0].pC_Confess * self.players[1].pC_Refuse),\n",
    "                (\"(5,0)\", self.players[0].pC_Confess * self.players[1].pR_Refuse),\n",
    "                (\"(0,5)\", self.players[0].pR_Confess * self.players[1].pC_Refuse),\n",
    "                (\"(3,3)\", self.players[0].pR_Confess * self.players[1].pR_Refuse)\n",
    "            ])\n",
    "        elif a1 == \"Refuse\" and a2 == \"Confess\":\n",
    "            return mkSimpleProb([\n",
    "                (\"(1,1)\", self.players[0].pC_Refuse * self.players[1].pC_Confess),\n",
    "                (\"(5,0)\", self.players[0].pC_Refuse * self.players[1].pR_Confess),\n",
    "                (\"(0,5)\", self.players[0].pR_Refuse * self.players[1].pC_Confess),\n",
    "                (\"(3,3)\", self.players[0].pR_Refuse * self.players[1].pR_Confess)\n",
    "            ])\n",
    "        elif a1 == \"Refuse\" and a2 == \"Refuse\":\n",
    "            return mkSimpleProb([\n",
    "                (\"(1,1)\", self.players[0].pC_Refuse * self.players[1].pC_Refuse),\n",
    "                (\"(5,0)\", self.players[0].pC_Refuse * self.players[1].pR_Refuse),\n",
    "                (\"(0,5)\", self.players[0].pR_Refuse * self.players[1].pC_Refuse),\n",
    "                (\"(3,3)\", self.players[0].pR_Refuse * self.players[1].pR_Refuse)\n",
    "            ])\n",
    "        else:\n",
    "            raise ValueError(\"Invalid action combination.\")\n",
    "    \n",
    "    def reward(self, t: str, state: str, actions: dict[str, str], next_state: str) -> dict[str, float]:        \n",
    "        rewards = {}\n",
    "    \n",
    "        if next_state == \"CC\":\n",
    "            rewards[self.players[0].name] = 1\n",
    "            rewards[self.players[1].name] = 1\n",
    "        elif next_state == \"CR\":\n",
    "            rewards[self.players[0].name] = 5\n",
    "            rewards[self.players[1].name] = 0\n",
    "        elif next_state == \"RC\":\n",
    "            rewards[self.players[0].name] = 0\n",
    "            rewards[self.players[1].name] = 5\n",
    "        elif next_state == \"RR\":\n",
    "            rewards[self.players[0].name] = 3\n",
    "            rewards[self.players[1].name] = 3\n",
    "        else:\n",
    "            raise ValueError(\"Invalid next state.\")\n",
    "        \n",
    "        return rewards"
   ]
  },
  {
   "cell_type": "code",
   "execution_count": 14,
   "metadata": {},
   "outputs": [
    {
     "name": "stdout",
     "output_type": "stream",
     "text": [
      "Actions chosen: {'Player1': 'Confess', 'Player2': 'Refuse'}\n",
      "Outcome distribution: {'(1,1)': 0.0, '(5,0)': 1.0, '(0,5)': 0.0, '(3,3)': 0.0}\n",
      "Rewards: {'Player1': 1, 'Player2': 1}\n"
     ]
    }
   ],
   "source": [
    "def main():\n",
    "    # Define probabilities.\n",
    "    probs = {\"pC_Confess\": 1.0, \"pR_Confess\": 0.0, \"pC_Refuse\": 0.0, \"pR_Refuse\": 1.0}\n",
    "    states = [\"Start\", \"CC\", \"CR\", \"RC\", \"RR\"]\n",
    "    def actions(x):\n",
    "        if x in states:\n",
    "            return [\"Confess\", \"Refuse\"]\n",
    "        else:\n",
    "            raise ValueError(f\"Invalid State: '{x}'.\")\n",
    "    \n",
    "    # Create two players.\n",
    "    player1 = Player(\"Player1\", probs, states, actions)\n",
    "    player2 = Player(\"Player2\", probs, states, actions)\n",
    "    players = [player1, player2]\n",
    "    \n",
    "    # Create the game instance.\n",
    "    game = Game(players, states)\n",
    "    \n",
    "    # PLACEHOLDER: Both players randomly choose an action in the \"Start\" state.\n",
    "    actions_chosen = {}\n",
    "    for player in players:\n",
    "        action = player.choose_action(\"Start\")\n",
    "        actions_chosen[player.name] = action\n",
    "    print(\"Actions chosen:\", actions_chosen)\n",
    "    \n",
    "    # Determine the outcome of the transition.\n",
    "    outcome_distribution = game.nextFunc(0, game.current_state, actions_chosen)\n",
    "    print(\"Outcome distribution:\", outcome_distribution)\n",
    "    \n",
    "    # Compute rewards.\n",
    "    rewards = game.reward(0, \"Start\", actions_chosen, \"CC\")\n",
    "    print(\"Rewards:\", rewards)\n",
    "\n",
    "if __name__ == \"__main__\":\n",
    "    main()\n"
   ]
  },
  {
   "cell_type": "code",
   "execution_count": null,
   "metadata": {},
   "outputs": [],
   "source": []
  }
 ],
 "metadata": {
  "kernelspec": {
   "display_name": "Python 3",
   "language": "python",
   "name": "python3"
  },
  "language_info": {
   "codemirror_mode": {
    "name": "ipython",
    "version": 3
   },
   "file_extension": ".py",
   "mimetype": "text/x-python",
   "name": "python",
   "nbconvert_exporter": "python",
   "pygments_lexer": "ipython3",
   "version": "3.11.9"
  }
 },
 "nbformat": 4,
 "nbformat_minor": 2
}
